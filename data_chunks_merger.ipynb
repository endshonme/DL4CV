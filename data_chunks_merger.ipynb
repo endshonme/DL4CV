{
 "cells": [
  {
   "cell_type": "code",
   "execution_count": 44,
   "metadata": {},
   "outputs": [
    {
     "name": "stdout",
     "output_type": "stream",
     "text": [
      "Total Execution Time: 0:00:10.954157\n"
     ]
    }
   ],
   "source": [
    "'''\n",
    "##\n",
    "## This file is an ipython notebook file used to merge various chunks of data into one big csv file for later use\n",
    "##\n",
    "## @file: data_chunks_merger.ipynb\n",
    "## @Author: Jyotirmay\n",
    "## @Date: 5th, January, 2018\n",
    "## @copyright: Group 19, DL4CV Project\n",
    "##\n",
    "\n",
    "'''\n",
    "\n",
    "# Importing libraries as required\n",
    "import numpy as np\n",
    "import pandas as pd\n",
    "import os, sys, time\n",
    "import datetime as dt\n",
    "\n",
    "# NOTE: You need to open jupyter notebook by running below command to handle huge transactions.\n",
    "# jupyter notebook --NotebookApp.iopub_data_rate_limit=1000000000000\n",
    "\n",
    "# load() is a function to load different chunks of data sets efficiently to one big data.xlsx.\n",
    "def load(filetype):\n",
    "    tic = dt.datetime.now()\n",
    "    # path, directories and filenames for given location.\n",
    "    path, dirs, files = next(os.walk(\"data/chunks\"))\n",
    "    \n",
    "    # read them in\n",
    "    excels = [pd.ExcelFile(path+'/'+name) for name in files]\n",
    "    \n",
    "    # turn them into dataframes\n",
    "    frames = [x.parse(x.sheet_names[0], header=None,index_col=None) for x in excels]\n",
    "\n",
    "    # concatenate them..\n",
    "    combined = pd.concat(frames)\n",
    "\n",
    "    # write it out\n",
    "    if filetype == 'xlsx':\n",
    "        combined.to_excel(\"data/data{}.xlsx\".format(int(time.time())), header=False, index=False)\n",
    "    elif filetype == 'csv':\n",
    "        combined.to_csv(\"data/data{}.csv\".format(int(time.time())), header=False, index=False, sep=\",\")\n",
    "    \n",
    "    toc = dt.datetime.now()\n",
    "    print('Total Execution Time: %s' %(toc-tic))\n",
    "\n",
    "# Run the program.\n",
    "load(filetype = \"xlsx\")\n",
    "\n"
   ]
  },
  {
   "cell_type": "code",
   "execution_count": null,
   "metadata": {
    "collapsed": true
   },
   "outputs": [],
   "source": []
  }
 ],
 "metadata": {
  "kernelspec": {
   "display_name": "Python 3",
   "language": "python",
   "name": "python3"
  },
  "language_info": {
   "codemirror_mode": {
    "name": "ipython",
    "version": 3
   },
   "file_extension": ".py",
   "mimetype": "text/x-python",
   "name": "python",
   "nbconvert_exporter": "python",
   "pygments_lexer": "ipython3",
   "version": "3.6.3"
  }
 },
 "nbformat": 4,
 "nbformat_minor": 2
}
