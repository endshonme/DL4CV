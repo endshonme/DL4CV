{
 "cells": [
  {
   "cell_type": "markdown",
   "metadata": {},
   "source": [
    "# Expnet prediction"
   ]
  },
  {
   "cell_type": "code",
   "execution_count": null,
   "metadata": {
    "collapsed": true
   },
   "outputs": [],
   "source": [
    "'''\n",
    "/*\n",
    "** Prediction.ipynb\n",
    "** This file has been used to load best pretrained expnet model and predict on other images, like old images or\n",
    "** real time images.\n",
    "** @author: Shayan Ahmad Siddiqui\n",
    "** @Date: 28th January, 2018\n",
    "** @Copyright: Facial Expression Prediction, DL4CV project, Winter Sem, 2018\n",
    "*/\n",
    "'''\n",
    "\n",
    "# Importing modules.\n",
    "\n",
    "import numpy as np\n",
    "import torch\n",
    "from torch.autograd import Variable\n",
    "import cv2\n",
    "import utils.img_allign_expnet as iae\n",
    "import utils.model_phase2_expnet as mpe\n",
    "import os\n",
    "import matplotlib.pyplot as plt\n",
    "\n",
    "emo_list = [\"neutral\", \"anger\", \"contempt\", \"disgust\", \"fear\", \"happy\", \"sadness\", \"surprise\" ]"
   ]
  },
  {
   "cell_type": "code",
   "execution_count": null,
   "metadata": {
    "collapsed": true
   },
   "outputs": [],
   "source": [
    "def ReadImage(pathname, label=None, isFacenetData = False, isAlligned = True): \n",
    "        if isAlligned:\n",
    "            img = cv2.imread(pathname)\n",
    "        else:\n",
    "            img = iae.img_align(pathname, label)\n",
    "        img = cv2.cvtColor(img, cv2.COLOR_RGB2BGR)\n",
    "        img = cv2.resize(img, (96, 96), interpolation=cv2.INTER_LINEAR)\n",
    "        img = np.transpose(img, (2, 0, 1))\n",
    "        img = img.astype(np.float32) / 255.0\n",
    "        I_ = torch.from_numpy(img).unsqueeze(0)\n",
    "        if isFacenetData:\n",
    "            if useCuda:\n",
    "                I_ = I_.cuda()\n",
    "        return I_\n",
    "\n",
    "def show_image(x):\n",
    "    img = x.squeeze()\n",
    "    img = torch.transpose(img,0,1)\n",
    "    img = torch.transpose(img,1,2)\n",
    "    plt.imshow(img)\n",
    "    plt.show()"
   ]
  },
  {
   "cell_type": "code",
   "execution_count": null,
   "metadata": {
    "collapsed": false
   },
   "outputs": [],
   "source": [
    "model_p2 = mpe.ExpNet_p2(useCuda=True, gpuDevice=0)\n",
    "model_p2.load_state_dict(torch.load(os.path.join('./model', 'expnet_p2.pt')))\n",
    "\n",
    "folder = \"data/predict_images\"\n",
    "for the_file in os.listdir(folder):\n",
    "    file_path = os.path.join(folder, the_file)\n",
    "    if os.path.isfile(file_path):\n",
    "        pass\n",
    "\n",
    "x = ReadImage(\"data/predict_images/test.jpg\", isAlligned=False)\n",
    "test_output = model_p2(Variable(x.cuda(), volatile=True))\n",
    "max_val, idx = torch.max(test_output, 1)\n",
    "show_image(x)\n",
    "print(emo_list[idx.data.cpu().numpy()[0]])"
   ]
  }
 ],
 "metadata": {
  "kernelspec": {
   "display_name": "Python [default]",
   "language": "python",
   "name": "python3"
  },
  "language_info": {
   "codemirror_mode": {
    "name": "ipython",
    "version": 3
   },
   "file_extension": ".py",
   "mimetype": "text/x-python",
   "name": "python",
   "nbconvert_exporter": "python",
   "pygments_lexer": "ipython3",
   "version": "3.6.0"
  }
 },
 "nbformat": 4,
 "nbformat_minor": 2
}
