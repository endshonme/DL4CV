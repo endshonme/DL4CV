{
 "cells": [
  {
   "cell_type": "code",
   "execution_count": 30,
   "metadata": {
    "collapsed": false
   },
   "outputs": [
    {
     "data": {
      "text/plain": [
       "array([3, 2])"
      ]
     },
     "execution_count": 30,
     "metadata": {},
     "output_type": "execute_result"
    }
   ],
   "source": [
    "### import numpy as np\n",
    "X = np.array([[3,2],[4,5],[7,8]])\n",
    "X[0,:]\n",
    "\n",
    "#np.random.choice(5, 3, replace=False)"
   ]
  },
  {
   "cell_type": "code",
   "execution_count": 31,
   "metadata": {
    "collapsed": false
   },
   "outputs": [
    {
     "data": {
      "text/plain": [
       "0"
      ]
     },
     "execution_count": 31,
     "metadata": {},
     "output_type": "execute_result"
    }
   ],
   "source": [
    "np.argmax(X[0, :])"
   ]
  },
  {
   "cell_type": "code",
   "execution_count": 12,
   "metadata": {
    "collapsed": false
   },
   "outputs": [
    {
     "data": {
      "text/plain": [
       "444"
      ]
     },
     "execution_count": 12,
     "metadata": {},
     "output_type": "execute_result"
    }
   ],
   "source": [
    "from random import randrange\n",
    "randrange(100, 1000, 4)"
   ]
  },
  {
   "cell_type": "code",
   "execution_count": 21,
   "metadata": {
    "collapsed": false
   },
   "outputs": [
    {
     "name": "stdout",
     "output_type": "stream",
     "text": [
      "(3,)\n",
      "(2, 3)\n"
     ]
    }
   ],
   "source": [
    "x = np.array([1,2,3]) \n",
    "y = np.array([[1,2,3], [4,5,6]])\n",
    "\n",
    "print(x.shape)\n",
    "print(y.shape)\n"
   ]
  },
  {
   "cell_type": "code",
   "execution_count": 23,
   "metadata": {
    "collapsed": false
   },
   "outputs": [
    {
     "name": "stdout",
     "output_type": "stream",
     "text": [
      "[14 32]\n",
      "(2,)\n"
     ]
    }
   ],
   "source": [
    "z = y.dot(x)\n",
    "print(z)\n",
    "print(z.shape)"
   ]
  },
  {
   "cell_type": "code",
   "execution_count": 4,
   "metadata": {
    "collapsed": false
   },
   "outputs": [
    {
     "name": "stdout",
     "output_type": "stream",
     "text": [
      "{'1e-08_0.001': {'training accuracy': 13, 'validation_accuracy': 35}}\n"
     ]
    }
   ],
   "source": [
    "x = {}\n",
    "ke = str(1e-8) +\"_\"+ str(1e-3)\n",
    "x.update({ke : {\"training accuracy\": 13, \"validation_accuracy\":35}})\n",
    "print(x)"
   ]
  },
  {
   "cell_type": "code",
   "execution_count": 22,
   "metadata": {
    "collapsed": false
   },
   "outputs": [
    {
     "name": "stdout",
     "output_type": "stream",
     "text": [
      "[1 2 3] [  2.71828183   7.3890561   20.08553692] 30.1928748506\n",
      "[ 0.09003057  0.24472847  0.66524096]\n",
      "[ 2.40760596  1.40760596  0.40760596]\n",
      "4.22281789333\n",
      "2.40760596388\n"
     ]
    }
   ],
   "source": [
    "import numpy as np\n",
    "a = np.array([1,2,3])\n",
    "\n",
    "print(a, np.exp(a), np.sum(np.exp(a)))\n",
    "print(np.exp(a)/np.sum(np.exp(a)))\n",
    "print(-np.log(np.exp(a)/np.sum(np.exp(a))))\n",
    "print(np.sum(-np.log(np.exp(a)/np.sum(np.exp(a)))))\n",
    "\n",
    "print(np.sum(-np.log(2.71828183/30.1928748506)))\n"
   ]
  },
  {
   "cell_type": "code",
   "execution_count": null,
   "metadata": {
    "collapsed": true
   },
   "outputs": [],
   "source": [
    "b = np.array([[1,2,3],[4,5,6]])\n",
    "c = a.dot(b.transpose(1,0))\n",
    "print(a)\n",
    "print(b.transpose(1,0))\n",
    "print(c)"
   ]
  }
 ],
 "metadata": {
  "kernelspec": {
   "display_name": "Python 3",
   "language": "python",
   "name": "python3"
  },
  "language_info": {
   "codemirror_mode": {
    "name": "ipython",
    "version": 3
   },
   "file_extension": ".py",
   "mimetype": "text/x-python",
   "name": "python",
   "nbconvert_exporter": "python",
   "pygments_lexer": "ipython3",
   "version": "3.6.0"
  }
 },
 "nbformat": 4,
 "nbformat_minor": 2
}
